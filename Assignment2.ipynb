{
 "cells": [
  {
   "cell_type": "code",
   "execution_count": 1,
   "metadata": {},
   "outputs": [
    {
     "name": "stdout",
     "output_type": "stream",
     "text": [
      "Sana aftab abbasi\n"
     ]
    }
   ],
   "source": [
    "name=\"Sana Aftab Abbasi\"\n",
    "print(name.capitalize())\n"
   ]
  },
  {
   "cell_type": "code",
   "execution_count": 2,
   "metadata": {},
   "outputs": [
    {
     "name": "stdout",
     "output_type": "stream",
     "text": [
      "sana aftab abbasi\n"
     ]
    }
   ],
   "source": [
    "name=\"Sana Aftab Abbasi\"\n",
    "print(name.casefold())"
   ]
  },
  {
   "cell_type": "code",
   "execution_count": 5,
   "metadata": {},
   "outputs": [
    {
     "name": "stdout",
     "output_type": "stream",
     "text": [
      "           Sana Aftab Abbasi            \n"
     ]
    }
   ],
   "source": [
    "name=\"Sana Aftab Abbasi\"\n",
    "print(name.center(40))"
   ]
  },
  {
   "cell_type": "code",
   "execution_count": 11,
   "metadata": {},
   "outputs": [
    {
     "name": "stdout",
     "output_type": "stream",
     "text": [
      "3\n"
     ]
    }
   ],
   "source": [
    "name=\"Sana Aftab Abbasi\"\n",
    "print(name.count('b'))"
   ]
  },
  {
   "cell_type": "code",
   "execution_count": 12,
   "metadata": {},
   "outputs": [
    {
     "name": "stdout",
     "output_type": "stream",
     "text": [
      "b'Sana Aftab Abbasi'\n"
     ]
    }
   ],
   "source": [
    "name=\"Sana Aftab Abbasi\"\n",
    "print(name.encode())"
   ]
  },
  {
   "cell_type": "code",
   "execution_count": 15,
   "metadata": {},
   "outputs": [
    {
     "name": "stdout",
     "output_type": "stream",
     "text": [
      "True\n"
     ]
    }
   ],
   "source": [
    "name=\"Sana Aftab Abbasi\"\n",
    "print(name.endswith('i'))"
   ]
  },
  {
   "cell_type": "code",
   "execution_count": 21,
   "metadata": {},
   "outputs": [
    {
     "name": "stdout",
     "output_type": "stream",
     "text": [
      "S    ana Aftab Abbasi\n"
     ]
    }
   ],
   "source": [
    "name=\"S\\tana Aftab Abbasi\"\n",
    "print(name.expandtabs(5))"
   ]
  },
  {
   "cell_type": "code",
   "execution_count": 23,
   "metadata": {},
   "outputs": [
    {
     "name": "stdout",
     "output_type": "stream",
     "text": [
      "1\n"
     ]
    }
   ],
   "source": [
    "name=\"Sana Aftab Abbasi\"\n",
    "print(name.find('a'))"
   ]
  },
  {
   "cell_type": "code",
   "execution_count": 24,
   "metadata": {},
   "outputs": [
    {
     "name": "stdout",
     "output_type": "stream",
     "text": [
      "My Name is Sana Aftab Abbasi\n"
     ]
    }
   ],
   "source": [
    "name='My Name is {firstname} {lastname}'\n",
    "print(name.format(firstname='Sana',lastname='Aftab Abbasi'))"
   ]
  },
  {
   "cell_type": "code",
   "execution_count": 25,
   "metadata": {},
   "outputs": [
    {
     "name": "stdout",
     "output_type": "stream",
     "text": [
      "Sana Aftab Abbasi\n"
     ]
    }
   ],
   "source": [
    "name={'fname':'Sana', 'lname':'Aftab Abbasi'}\n",
    "print('{fname} {lname}'.format_map(name))"
   ]
  },
  {
   "cell_type": "code",
   "execution_count": 27,
   "metadata": {},
   "outputs": [
    {
     "name": "stdout",
     "output_type": "stream",
     "text": [
      "7\n"
     ]
    }
   ],
   "source": [
    "name='Sana Aftab Abbasi' \n",
    "print(name.index('t'))"
   ]
  },
  {
   "cell_type": "code",
   "execution_count": 28,
   "metadata": {},
   "outputs": [
    {
     "name": "stdout",
     "output_type": "stream",
     "text": [
      "False\n"
     ]
    }
   ],
   "source": [
    "name=\"Sana Aftab Abbasi\"\n",
    "print(name.isalnum())"
   ]
  },
  {
   "cell_type": "code",
   "execution_count": 29,
   "metadata": {},
   "outputs": [
    {
     "name": "stdout",
     "output_type": "stream",
     "text": [
      "True\n"
     ]
    }
   ],
   "source": [
    "name=\"SanaAftabAbbasi\"\n",
    "print(name.isalpha()) "
   ]
  },
  {
   "cell_type": "code",
   "execution_count": 41,
   "metadata": {},
   "outputs": [
    {
     "name": "stdout",
     "output_type": "stream",
     "text": [
      "True\n"
     ]
    }
   ],
   "source": [
    "name=\"sana aftab abbasi\"\n",
    "print(name.isascii())"
   ]
  },
  {
   "cell_type": "code",
   "execution_count": 42,
   "metadata": {},
   "outputs": [
    {
     "name": "stdout",
     "output_type": "stream",
     "text": [
      "False\n"
     ]
    }
   ],
   "source": [
    "name=\"SanaAftabAbbasi.99\"\n",
    "print(name.isdecimal())\n"
   ]
  },
  {
   "cell_type": "code",
   "execution_count": 52,
   "metadata": {},
   "outputs": [
    {
     "name": "stdout",
     "output_type": "stream",
     "text": [
      "True\n"
     ]
    }
   ],
   "source": [
    "name=\"7656\" \n",
    "print(name.isdigit())"
   ]
  },
  {
   "cell_type": "code",
   "execution_count": 54,
   "metadata": {},
   "outputs": [
    {
     "name": "stdout",
     "output_type": "stream",
     "text": [
      "True\n"
     ]
    }
   ],
   "source": [
    "name='Sana_AftabAbbasi' \n",
    "print(name.isidentifier())"
   ]
  },
  {
   "cell_type": "code",
   "execution_count": 55,
   "metadata": {},
   "outputs": [
    {
     "name": "stdout",
     "output_type": "stream",
     "text": [
      "False\n"
     ]
    }
   ],
   "source": [
    "name='Sana Aftab Abbasi'\n",
    "print(name.islower())"
   ]
  },
  {
   "cell_type": "code",
   "execution_count": 56,
   "metadata": {},
   "outputs": [
    {
     "name": "stdout",
     "output_type": "stream",
     "text": [
      "True\n"
     ]
    }
   ],
   "source": [
    "name='ana aftab abbasi'\n",
    "print(name.islower())"
   ]
  },
  {
   "cell_type": "code",
   "execution_count": 57,
   "metadata": {},
   "outputs": [
    {
     "name": "stdout",
     "output_type": "stream",
     "text": [
      "False\n"
     ]
    }
   ],
   "source": [
    "name='Sana Aftab Abbasi'\n",
    "print(name.isnumeric())\n"
   ]
  },
  {
   "cell_type": "code",
   "execution_count": 58,
   "metadata": {},
   "outputs": [
    {
     "name": "stdout",
     "output_type": "stream",
     "text": [
      "True\n"
     ]
    }
   ],
   "source": [
    "number='135226'\n",
    "print(number.isnumeric())"
   ]
  },
  {
   "cell_type": "code",
   "execution_count": 59,
   "metadata": {},
   "outputs": [
    {
     "name": "stdout",
     "output_type": "stream",
     "text": [
      "True\n"
     ]
    }
   ],
   "source": [
    "name='Sana Aftab Abbasi'\n",
    "print(name.isprintable())"
   ]
  },
  {
   "cell_type": "code",
   "execution_count": 60,
   "metadata": {},
   "outputs": [
    {
     "name": "stdout",
     "output_type": "stream",
     "text": [
      "False\n"
     ]
    }
   ],
   "source": [
    "name='Sana Aftab Abbasi'\n",
    "print(name.isspace())"
   ]
  },
  {
   "cell_type": "code",
   "execution_count": 61,
   "metadata": {},
   "outputs": [
    {
     "name": "stdout",
     "output_type": "stream",
     "text": [
      "True\n"
     ]
    }
   ],
   "source": [
    "name='  '\n",
    "print(name.isspace())"
   ]
  },
  {
   "cell_type": "code",
   "execution_count": 63,
   "metadata": {},
   "outputs": [
    {
     "name": "stdout",
     "output_type": "stream",
     "text": [
      "False\n"
     ]
    }
   ],
   "source": [
    "name='Sana aftab Abbasi'\n",
    "print(name.istitle())"
   ]
  },
  {
   "cell_type": "code",
   "execution_count": 65,
   "metadata": {},
   "outputs": [
    {
     "name": "stdout",
     "output_type": "stream",
     "text": [
      "False\n"
     ]
    }
   ],
   "source": [
    "name='Sana Aftab'\n",
    "print(name.isupper())\n"
   ]
  },
  {
   "cell_type": "code",
   "execution_count": 66,
   "metadata": {},
   "outputs": [
    {
     "name": "stdout",
     "output_type": "stream",
     "text": [
      "True\n"
     ]
    }
   ],
   "source": [
    "name='SANA AFTAB'\n",
    "print(name.isupper())"
   ]
  },
  {
   "cell_type": "code",
   "execution_count": 69,
   "metadata": {},
   "outputs": [
    {
     "name": "stdout",
     "output_type": "stream",
     "text": [
      "Abbasi  Aftab  Sana\n"
     ]
    }
   ],
   "source": [
    "name={'Sana','Aftab','Abbasi'}\n",
    "print('  '.join(name))"
   ]
  },
  {
   "cell_type": "code",
   "execution_count": 70,
   "metadata": {},
   "outputs": [
    {
     "name": "stdout",
     "output_type": "stream",
     "text": [
      "Sana                 Aftab\n"
     ]
    }
   ],
   "source": [
    "name='Sana '\n",
    "name1=name.ljust(20)\n",
    "print(name1,\"Aftab\")"
   ]
  },
  {
   "cell_type": "code",
   "execution_count": 71,
   "metadata": {},
   "outputs": [
    {
     "name": "stdout",
     "output_type": "stream",
     "text": [
      "sana aftab abbasi\n"
     ]
    }
   ],
   "source": [
    "name='SaNa AftAB aBBaSi'\n",
    "print(name.lower())"
   ]
  },
  {
   "cell_type": "code",
   "execution_count": 72,
   "metadata": {},
   "outputs": [
    {
     "name": "stdout",
     "output_type": "stream",
     "text": [
      "Sana Aftab   \n"
     ]
    }
   ],
   "source": [
    "name='       Sana Aftab   '\n",
    "print(name.lstrip()) "
   ]
  },
  {
   "cell_type": "code",
   "execution_count": 73,
   "metadata": {},
   "outputs": [
    {
     "name": "stdout",
     "output_type": "stream",
     "text": [
      "('Sana ', 'Aftab', ' Abbasi')\n"
     ]
    }
   ],
   "source": [
    "name='Sana Aftab Abbasi'\n",
    "print(name.partition('Aftab'))  "
   ]
  },
  {
   "cell_type": "code",
   "execution_count": 75,
   "metadata": {},
   "outputs": [
    {
     "name": "stdout",
     "output_type": "stream",
     "text": [
      "Amna Aftab Abbasi\n"
     ]
    }
   ],
   "source": [
    "name='Sana Aftab Abbasi'\n",
    "print(name.replace('Sana','Amna')) "
   ]
  },
  {
   "cell_type": "code",
   "execution_count": 76,
   "metadata": {},
   "outputs": [
    {
     "name": "stdout",
     "output_type": "stream",
     "text": [
      "7\n"
     ]
    }
   ],
   "source": [
    "name='Sana Aftab Abbasi'\n",
    "print(name.rfind('t'))"
   ]
  },
  {
   "cell_type": "code",
   "execution_count": 78,
   "metadata": {},
   "outputs": [
    {
     "name": "stdout",
     "output_type": "stream",
     "text": [
      "7\n"
     ]
    }
   ],
   "source": [
    "name='Sana Aftab Abbasi'\n",
    "print(name.rindex('t'))"
   ]
  },
  {
   "cell_type": "code",
   "execution_count": 79,
   "metadata": {},
   "outputs": [
    {
     "name": "stdout",
     "output_type": "stream",
     "text": [
      "        Sana Aftab Abbasi\n"
     ]
    }
   ],
   "source": [
    "name='Sana Aftab Abbasi'\n",
    "print(name.rjust(25))"
   ]
  },
  {
   "cell_type": "code",
   "execution_count": 80,
   "metadata": {},
   "outputs": [
    {
     "name": "stdout",
     "output_type": "stream",
     "text": [
      "('Sana ', 'Aftab', ' Abbasi')\n"
     ]
    }
   ],
   "source": [
    "name='Sana Aftab Abbasi'\n",
    "print(name.rpartition('Aftab'))"
   ]
  },
  {
   "cell_type": "code",
   "execution_count": 81,
   "metadata": {},
   "outputs": [
    {
     "name": "stdout",
     "output_type": "stream",
     "text": [
      "['Sana', 'Aftab', 'Abbasi']\n"
     ]
    }
   ],
   "source": [
    "name='Sana Aftab Abbasi'\n",
    "print(name.rsplit())"
   ]
  },
  {
   "cell_type": "code",
   "execution_count": 89,
   "metadata": {},
   "outputs": [
    {
     "name": "stdout",
     "output_type": "stream",
     "text": [
      "Sana Aftab Abbasi\n"
     ]
    }
   ],
   "source": [
    "name='Sana Aftab Abbasi  '\n",
    "print(name.rstrip())"
   ]
  },
  {
   "cell_type": "code",
   "execution_count": 90,
   "metadata": {},
   "outputs": [
    {
     "name": "stdout",
     "output_type": "stream",
     "text": [
      "['Sana', 'Aftab', 'Abbasi']\n"
     ]
    }
   ],
   "source": [
    "name='Sana Aftab Abbasi'\n",
    "print(name.split())"
   ]
  },
  {
   "cell_type": "code",
   "execution_count": 91,
   "metadata": {},
   "outputs": [
    {
     "name": "stdout",
     "output_type": "stream",
     "text": [
      "['Sana Aftab Abbasi']\n"
     ]
    }
   ],
   "source": [
    "name='Sana Aftab Abbasi'\n",
    "print(name.splitlines())"
   ]
  },
  {
   "cell_type": "code",
   "execution_count": 92,
   "metadata": {},
   "outputs": [
    {
     "name": "stdout",
     "output_type": "stream",
     "text": [
      "True\n",
      "False\n"
     ]
    }
   ],
   "source": [
    "name='Sana Aftab Abbasi'\n",
    "print(name.startswith('S'))\n",
    "name='Sana Aftab Abbasi'\n",
    "print(name.startswith('B'))"
   ]
  },
  {
   "cell_type": "code",
   "execution_count": 93,
   "metadata": {},
   "outputs": [
    {
     "name": "stdout",
     "output_type": "stream",
     "text": [
      "sANA aFTAB aBBASI\n"
     ]
    }
   ],
   "source": [
    "name='Sana Aftab Abbasi' \n",
    "print(name.swapcase())"
   ]
  },
  {
   "cell_type": "code",
   "execution_count": 94,
   "metadata": {},
   "outputs": [
    {
     "name": "stdout",
     "output_type": "stream",
     "text": [
      "Sana Aftab Abbasi\n"
     ]
    }
   ],
   "source": [
    "name='Sana Aftab Abbasi'\n",
    "print(name.title())"
   ]
  },
  {
   "cell_type": "code",
   "execution_count": 95,
   "metadata": {},
   "outputs": [
    {
     "name": "stdout",
     "output_type": "stream",
     "text": [
      "SANA AFTAB ABBASI\n"
     ]
    }
   ],
   "source": [
    "name='Sana Aftab Abbasi'\n",
    "print(name.upper())"
   ]
  },
  {
   "cell_type": "code",
   "execution_count": 100,
   "metadata": {},
   "outputs": [
    {
     "name": "stdout",
     "output_type": "stream",
     "text": [
      "000Sana Aftab Abbasi\n"
     ]
    }
   ],
   "source": [
    "name='Sana Aftab Abbasi'\n",
    "print(name.zfill(20))"
   ]
  },
  {
   "cell_type": "code",
   "execution_count": null,
   "metadata": {},
   "outputs": [],
   "source": []
  }
 ],
 "metadata": {
  "kernelspec": {
   "display_name": "Python 3",
   "language": "python",
   "name": "python3"
  },
  "language_info": {
   "codemirror_mode": {
    "name": "ipython",
    "version": 3
   },
   "file_extension": ".py",
   "mimetype": "text/x-python",
   "name": "python",
   "nbconvert_exporter": "python",
   "pygments_lexer": "ipython3",
   "version": "3.7.3"
  }
 },
 "nbformat": 4,
 "nbformat_minor": 4
}
